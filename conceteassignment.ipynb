{
 "cells": [
  {
   "cell_type": "markdown",
   "metadata": {},
   "source": [
    "# Assignment: Compresive Strength Concrete Problem\n",
    "\n",
    "\n",
    "### Abstract: \n",
    "\n",
    "Concrete is the most important material in civil engineering. The concrete compressive strength (concrete strength to bear the load) is a highly nonlinear function of age and ingredients.  <br><br>\n",
    "\n",
    "<table border=\"1\"  cellpadding=\"6\" bordercolor=\"red\">\n",
    "\t<tbody>\n",
    "        <tr>\n",
    "\t\t<td bgcolor=\"#DDEEFF\"><p class=\"normal\"><b>Data Set Characteristics:&nbsp;&nbsp;</b></p></td>\n",
    "\t\t<td><p class=\"normal\">Multivariate</p></td>\n",
    "\t\t<td bgcolor=\"#DDEEFF\"><p class=\"normal\"><b>Number of Instances:</b></p></td>\n",
    "\t\t<td><p class=\"normal\">1030</p></td>\n",
    "\t\t<td bgcolor=\"#DDEEFF\"><p class=\"normal\"><b>Area:</b></p></td>\n",
    "\t\t<td><p class=\"normal\">Physical</p></td>\n",
    "        </tr>\n",
    "     </tbody>\n",
    "    </table>\n",
    "<table border=\"1\" cellpadding=\"6\">\n",
    "    <tbody>\n",
    "        <tr>\n",
    "            <td bgcolor=\"#DDEEFF\"><p class=\"normal\"><b>Attribute Characteristics:</b></p></td>\n",
    "            <td><p class=\"normal\">Real</p></td>\n",
    "            <td bgcolor=\"#DDEEFF\"><p class=\"normal\"><b>Number of Attributes:</b></p></td>\n",
    "            <td><p class=\"normal\">9</p></td>\n",
    "            <td bgcolor=\"#DDEEFF\"><p class=\"normal\"><b>Date Donated</b></p></td>\n",
    "            <td><p class=\"normal\">2007-08-03</p></td>\n",
    "        </tr>\n",
    "     </tbody>\n",
    "    </table>\n",
    "<table border=\"1\" cellpadding=\"6\">\t\n",
    "    <tbody>\n",
    "    <tr>\n",
    "\t\t<td bgcolor=\"#DDEEFF\"><p class=\"normal\"><b>Associated Tasks:</b></p></td>\n",
    "\t\t<td><p class=\"normal\">Regression</p></td>\n",
    "\t\t<td bgcolor=\"#DDEEFF\"><p class=\"normal\"><b>Missing Values?</b></p></td>\n",
    "\t\t<td><p class=\"normal\">N/A</p></td>\n",
    "\t\t<td bgcolor=\"#DDEEFF\"><p class=\"normal\"><b>Number of Web Hits:</b></p></td>\n",
    "\t\t<td><p class=\"normal\">231464</p></td>\n",
    "\t</tr>\n",
    "    </tbody>\n",
    "    </table>"
   ]
  },
  {
   "cell_type": "markdown",
   "metadata": {},
   "source": [
    "###  Description:\n",
    "| Features Name | Data Type | Measurement | Description |\n",
    "| -- | -- | -- | -- |\n",
    "Cement (component 1) | quantitative | kg in a m3 mixture | Input Variable\n",
    "Blast Furnace Slag (component 2) | quantitative | kg in a m3 mixture | Input Variable\n",
    "Fly Ash (component 3) | quantitative | kg in a m3 mixture | Input Variable\n",
    "Water (component 4) | quantitative | kg in a m3 mixture | Input Variable\n",
    "Superplasticizer (component 5) | quantitative | kg in a m3 mixture | Input Variable\n",
    "Coarse Aggregate (component 6) | quantitative | kg in a m3 mixture | Input Variable\n",
    "Fine Aggregate (component 7) | quantitative | kg in a m3 mixture | Input Variable\n",
    "Age | quantitative | Day (1~365) | Input Variable\n",
    "Concrete compressive strength | quantitative | MPa | Output Variable\n",
    "\n",
    "### WORKFLOW :\n",
    "- Load Data\n",
    "- Check Missing Values ( If Exist ; Fill each record with mean of its feature )\n",
    "- Standardized the Input Variables. **Hint**: Centeralized the data\n",
    "- Split into 50% Training(Samples,Labels) , 30% Test(Samples,Labels) and 20% Validation Data(Samples,Labels).\n",
    "- Model : input Layer (No. of features ), 3 hidden layers including 10,8,6 unit & Output Layer with activation function relu/tanh (check by experiment).\n",
    "- Compilation Step (Note : Its a Regression problem , select loss , metrics according to it)\n",
    "- Train the Model with Epochs (100) and validate it\n",
    "- If the model gets overfit tune your model by changing the units , No. of layers , activation function , epochs , add dropout layer or add Regularizer according to the need .\n",
    "- Evaluation Step\n",
    "- Prediction\n"
   ]
  },
  {
   "cell_type": "markdown",
   "metadata": {},
   "source": [
    "# Load Data:\n",
    "[Click Here to Download DataSet](https://github.com/ramsha275/ML_Datasets/blob/main/compresive_strength_concrete.csv)"
   ]
  },
  {
   "cell_type": "markdown",
   "metadata": {},
   "source": [
    "# Import required lib"
   ]
  },
  {
   "cell_type": "code",
   "execution_count": 1,
   "metadata": {},
   "outputs": [],
   "source": [
    "import numpy as np\n",
    "import pandas as pd\n",
    "import seaborn as sns\n",
    "import tensorflow as tf\n",
    "import matplotlib.pyplot as plt"
   ]
  },
  {
   "cell_type": "markdown",
   "metadata": {},
   "source": [
    "# Step 1 Lode data"
   ]
  },
  {
   "cell_type": "code",
   "execution_count": 2,
   "metadata": {},
   "outputs": [],
   "source": [
    "dataset=pd.read_csv('compresive_strength_concrete.csv')"
   ]
  },
  {
   "cell_type": "markdown",
   "metadata": {},
   "source": [
    "# visulalize first 5 row of the data"
   ]
  },
  {
   "cell_type": "code",
   "execution_count": 3,
   "metadata": {},
   "outputs": [
    {
     "data": {
      "text/html": [
       "<div>\n",
       "<style scoped>\n",
       "    .dataframe tbody tr th:only-of-type {\n",
       "        vertical-align: middle;\n",
       "    }\n",
       "\n",
       "    .dataframe tbody tr th {\n",
       "        vertical-align: top;\n",
       "    }\n",
       "\n",
       "    .dataframe thead th {\n",
       "        text-align: right;\n",
       "    }\n",
       "</style>\n",
       "<table border=\"1\" class=\"dataframe\">\n",
       "  <thead>\n",
       "    <tr style=\"text-align: right;\">\n",
       "      <th></th>\n",
       "      <th>Cement (component 1)(kg in a m^3 mixture)</th>\n",
       "      <th>Blast Furnace Slag (component 2)(kg in a m^3 mixture)</th>\n",
       "      <th>Fly Ash (component 3)(kg in a m^3 mixture)</th>\n",
       "      <th>Water  (component 4)(kg in a m^3 mixture)</th>\n",
       "      <th>Superplasticizer (component 5)(kg in a m^3 mixture)</th>\n",
       "      <th>Coarse Aggregate  (component 6)(kg in a m^3 mixture)</th>\n",
       "      <th>Fine Aggregate (component 7)(kg in a m^3 mixture)</th>\n",
       "      <th>Age (day)</th>\n",
       "      <th>Concrete compressive strength(MPa, megapascals)</th>\n",
       "    </tr>\n",
       "  </thead>\n",
       "  <tbody>\n",
       "    <tr>\n",
       "      <th>0</th>\n",
       "      <td>540.0</td>\n",
       "      <td>0.0</td>\n",
       "      <td>0.0</td>\n",
       "      <td>162.0</td>\n",
       "      <td>2.5</td>\n",
       "      <td>1040.0</td>\n",
       "      <td>676.0</td>\n",
       "      <td>28</td>\n",
       "      <td>79.99</td>\n",
       "    </tr>\n",
       "    <tr>\n",
       "      <th>1</th>\n",
       "      <td>540.0</td>\n",
       "      <td>0.0</td>\n",
       "      <td>0.0</td>\n",
       "      <td>162.0</td>\n",
       "      <td>2.5</td>\n",
       "      <td>1055.0</td>\n",
       "      <td>676.0</td>\n",
       "      <td>28</td>\n",
       "      <td>61.89</td>\n",
       "    </tr>\n",
       "    <tr>\n",
       "      <th>2</th>\n",
       "      <td>332.5</td>\n",
       "      <td>142.5</td>\n",
       "      <td>0.0</td>\n",
       "      <td>228.0</td>\n",
       "      <td>0.0</td>\n",
       "      <td>932.0</td>\n",
       "      <td>594.0</td>\n",
       "      <td>270</td>\n",
       "      <td>40.27</td>\n",
       "    </tr>\n",
       "    <tr>\n",
       "      <th>3</th>\n",
       "      <td>332.5</td>\n",
       "      <td>142.5</td>\n",
       "      <td>0.0</td>\n",
       "      <td>228.0</td>\n",
       "      <td>0.0</td>\n",
       "      <td>932.0</td>\n",
       "      <td>594.0</td>\n",
       "      <td>365</td>\n",
       "      <td>41.05</td>\n",
       "    </tr>\n",
       "    <tr>\n",
       "      <th>4</th>\n",
       "      <td>198.6</td>\n",
       "      <td>132.4</td>\n",
       "      <td>0.0</td>\n",
       "      <td>192.0</td>\n",
       "      <td>0.0</td>\n",
       "      <td>978.4</td>\n",
       "      <td>825.5</td>\n",
       "      <td>360</td>\n",
       "      <td>44.30</td>\n",
       "    </tr>\n",
       "  </tbody>\n",
       "</table>\n",
       "</div>"
      ],
      "text/plain": [
       "   Cement (component 1)(kg in a m^3 mixture)  \\\n",
       "0                                      540.0   \n",
       "1                                      540.0   \n",
       "2                                      332.5   \n",
       "3                                      332.5   \n",
       "4                                      198.6   \n",
       "\n",
       "   Blast Furnace Slag (component 2)(kg in a m^3 mixture)  \\\n",
       "0                                                0.0       \n",
       "1                                                0.0       \n",
       "2                                              142.5       \n",
       "3                                              142.5       \n",
       "4                                              132.4       \n",
       "\n",
       "   Fly Ash (component 3)(kg in a m^3 mixture)  \\\n",
       "0                                         0.0   \n",
       "1                                         0.0   \n",
       "2                                         0.0   \n",
       "3                                         0.0   \n",
       "4                                         0.0   \n",
       "\n",
       "   Water  (component 4)(kg in a m^3 mixture)  \\\n",
       "0                                      162.0   \n",
       "1                                      162.0   \n",
       "2                                      228.0   \n",
       "3                                      228.0   \n",
       "4                                      192.0   \n",
       "\n",
       "   Superplasticizer (component 5)(kg in a m^3 mixture)  \\\n",
       "0                                                2.5     \n",
       "1                                                2.5     \n",
       "2                                                0.0     \n",
       "3                                                0.0     \n",
       "4                                                0.0     \n",
       "\n",
       "   Coarse Aggregate  (component 6)(kg in a m^3 mixture)  \\\n",
       "0                                             1040.0      \n",
       "1                                             1055.0      \n",
       "2                                              932.0      \n",
       "3                                              932.0      \n",
       "4                                              978.4      \n",
       "\n",
       "   Fine Aggregate (component 7)(kg in a m^3 mixture)  Age (day)  \\\n",
       "0                                              676.0         28   \n",
       "1                                              676.0         28   \n",
       "2                                              594.0        270   \n",
       "3                                              594.0        365   \n",
       "4                                              825.5        360   \n",
       "\n",
       "   Concrete compressive strength(MPa, megapascals)   \n",
       "0                                             79.99  \n",
       "1                                             61.89  \n",
       "2                                             40.27  \n",
       "3                                             41.05  \n",
       "4                                             44.30  "
      ]
     },
     "execution_count": 3,
     "metadata": {},
     "output_type": "execute_result"
    }
   ],
   "source": [
    "dataset.head()"
   ]
  },
  {
   "cell_type": "markdown",
   "metadata": {},
   "source": [
    "# Checking null values"
   ]
  },
  {
   "cell_type": "code",
   "execution_count": 4,
   "metadata": {},
   "outputs": [
    {
     "data": {
      "text/plain": [
       "Cement (component 1)(kg in a m^3 mixture)                0\n",
       "Blast Furnace Slag (component 2)(kg in a m^3 mixture)    0\n",
       "Fly Ash (component 3)(kg in a m^3 mixture)               0\n",
       "Water  (component 4)(kg in a m^3 mixture)                0\n",
       "Superplasticizer (component 5)(kg in a m^3 mixture)      0\n",
       "Coarse Aggregate  (component 6)(kg in a m^3 mixture)     0\n",
       "Fine Aggregate (component 7)(kg in a m^3 mixture)        0\n",
       "Age (day)                                                0\n",
       "Concrete compressive strength(MPa, megapascals)          0\n",
       "dtype: int64"
      ]
     },
     "execution_count": 4,
     "metadata": {},
     "output_type": "execute_result"
    }
   ],
   "source": [
    "dataset.isnull().sum()"
   ]
  },
  {
   "cell_type": "markdown",
   "metadata": {},
   "source": [
    "# Checking data types of columns"
   ]
  },
  {
   "cell_type": "code",
   "execution_count": 5,
   "metadata": {},
   "outputs": [
    {
     "data": {
      "text/plain": [
       "Cement (component 1)(kg in a m^3 mixture)                float64\n",
       "Blast Furnace Slag (component 2)(kg in a m^3 mixture)    float64\n",
       "Fly Ash (component 3)(kg in a m^3 mixture)               float64\n",
       "Water  (component 4)(kg in a m^3 mixture)                float64\n",
       "Superplasticizer (component 5)(kg in a m^3 mixture)      float64\n",
       "Coarse Aggregate  (component 6)(kg in a m^3 mixture)     float64\n",
       "Fine Aggregate (component 7)(kg in a m^3 mixture)        float64\n",
       "Age (day)                                                  int64\n",
       "Concrete compressive strength(MPa, megapascals)          float64\n",
       "dtype: object"
      ]
     },
     "execution_count": 5,
     "metadata": {},
     "output_type": "execute_result"
    }
   ],
   "source": [
    "dataset.dtypes"
   ]
  },
  {
   "cell_type": "markdown",
   "metadata": {},
   "source": [
    "# Standarizing the Input Variables"
   ]
  },
  {
   "cell_type": "code",
   "execution_count": 6,
   "metadata": {},
   "outputs": [],
   "source": [
    "dataset=dataset.astype('float32')"
   ]
  },
  {
   "cell_type": "code",
   "execution_count": 7,
   "metadata": {},
   "outputs": [
    {
     "data": {
      "text/plain": [
       "(1030, 9)"
      ]
     },
     "execution_count": 7,
     "metadata": {},
     "output_type": "execute_result"
    }
   ],
   "source": [
    "dataset.shape"
   ]
  },
  {
   "cell_type": "code",
   "execution_count": 8,
   "metadata": {},
   "outputs": [
    {
     "data": {
      "text/plain": [
       "Cement (component 1)(kg in a m^3 mixture)                float32\n",
       "Blast Furnace Slag (component 2)(kg in a m^3 mixture)    float32\n",
       "Fly Ash (component 3)(kg in a m^3 mixture)               float32\n",
       "Water  (component 4)(kg in a m^3 mixture)                float32\n",
       "Superplasticizer (component 5)(kg in a m^3 mixture)      float32\n",
       "Coarse Aggregate  (component 6)(kg in a m^3 mixture)     float32\n",
       "Fine Aggregate (component 7)(kg in a m^3 mixture)        float32\n",
       "Age (day)                                                float32\n",
       "Concrete compressive strength(MPa, megapascals)          float32\n",
       "dtype: object"
      ]
     },
     "execution_count": 8,
     "metadata": {},
     "output_type": "execute_result"
    }
   ],
   "source": [
    "dataset.dtypes\n"
   ]
  },
  {
   "cell_type": "code",
   "execution_count": 9,
   "metadata": {},
   "outputs": [
    {
     "data": {
      "image/png": "[encoded data removed]",
      "text/plain": [
       "<Figure size 720x720 with 2 Axes>"
      ]
     },
     "metadata": {
      "needs_background": "light"
     },
     "output_type": "display_data"
    }
   ],
   "source": [
    "corrmat = dataset.corr()\n",
    "top_corr_features = corrmat.index\n",
    "plt.figure(figsize=(10,10))\n",
    "g=sns.heatmap(dataset[top_corr_features].corr(), annot=True,cmap=\"RdYlGn\")"
   ]
  },
  {
   "cell_type": "code",
   "execution_count": 10,
   "metadata": {},
   "outputs": [],
   "source": [
    "np.random.seed(224)\n",
    "mask = np.random.rand(len(dataset)) < 0.5\n",
    "train_data = dataset[mask]\n",
    "test_data = dataset[~mask]"
   ]
  },
  {
   "cell_type": "code",
   "execution_count": 11,
   "metadata": {},
   "outputs": [
    {
     "data": {
      "text/plain": [
       "(516, 9)"
      ]
     },
     "execution_count": 11,
     "metadata": {},
     "output_type": "execute_result"
    }
   ],
   "source": [
    "train_data.shape"
   ]
  },
  {
   "cell_type": "code",
   "execution_count": 12,
   "metadata": {},
   "outputs": [
    {
     "data": {
      "text/html": [
       "<div>\n",
       "<style scoped>\n",
       "    .dataframe tbody tr th:only-of-type {\n",
       "        vertical-align: middle;\n",
       "    }\n",
       "\n",
       "    .dataframe tbody tr th {\n",
       "        vertical-align: top;\n",
       "    }\n",
       "\n",
       "    .dataframe thead th {\n",
       "        text-align: right;\n",
       "    }\n",
       "</style>\n",
       "<table border=\"1\" class=\"dataframe\">\n",
       "  <thead>\n",
       "    <tr style=\"text-align: right;\">\n",
       "      <th></th>\n",
       "      <th>Cement (component 1)(kg in a m^3 mixture)</th>\n",
       "      <th>Blast Furnace Slag (component 2)(kg in a m^3 mixture)</th>\n",
       "      <th>Fly Ash (component 3)(kg in a m^3 mixture)</th>\n",
       "      <th>Water  (component 4)(kg in a m^3 mixture)</th>\n",
       "      <th>Superplasticizer (component 5)(kg in a m^3 mixture)</th>\n",
       "      <th>Coarse Aggregate  (component 6)(kg in a m^3 mixture)</th>\n",
       "      <th>Fine Aggregate (component 7)(kg in a m^3 mixture)</th>\n",
       "      <th>Age (day)</th>\n",
       "      <th>Concrete compressive strength(MPa, megapascals)</th>\n",
       "    </tr>\n",
       "  </thead>\n",
       "  <tbody>\n",
       "    <tr>\n",
       "      <th>0</th>\n",
       "      <td>540.0</td>\n",
       "      <td>0.0</td>\n",
       "      <td>0.0</td>\n",
       "      <td>162.0</td>\n",
       "      <td>2.5</td>\n",
       "      <td>1040.0</td>\n",
       "      <td>676.0</td>\n",
       "      <td>28.0</td>\n",
       "      <td>79.989998</td>\n",
       "    </tr>\n",
       "    <tr>\n",
       "      <th>1</th>\n",
       "      <td>540.0</td>\n",
       "      <td>0.0</td>\n",
       "      <td>0.0</td>\n",
       "      <td>162.0</td>\n",
       "      <td>2.5</td>\n",
       "      <td>1055.0</td>\n",
       "      <td>676.0</td>\n",
       "      <td>28.0</td>\n",
       "      <td>61.889999</td>\n",
       "    </tr>\n",
       "    <tr>\n",
       "      <th>2</th>\n",
       "      <td>332.5</td>\n",
       "      <td>142.5</td>\n",
       "      <td>0.0</td>\n",
       "      <td>228.0</td>\n",
       "      <td>0.0</td>\n",
       "      <td>932.0</td>\n",
       "      <td>594.0</td>\n",
       "      <td>270.0</td>\n",
       "      <td>40.270000</td>\n",
       "    </tr>\n",
       "    <tr>\n",
       "      <th>3</th>\n",
       "      <td>332.5</td>\n",
       "      <td>142.5</td>\n",
       "      <td>0.0</td>\n",
       "      <td>228.0</td>\n",
       "      <td>0.0</td>\n",
       "      <td>932.0</td>\n",
       "      <td>594.0</td>\n",
       "      <td>365.0</td>\n",
       "      <td>41.049999</td>\n",
       "    </tr>\n",
       "    <tr>\n",
       "      <th>5</th>\n",
       "      <td>266.0</td>\n",
       "      <td>114.0</td>\n",
       "      <td>0.0</td>\n",
       "      <td>228.0</td>\n",
       "      <td>0.0</td>\n",
       "      <td>932.0</td>\n",
       "      <td>670.0</td>\n",
       "      <td>90.0</td>\n",
       "      <td>47.029999</td>\n",
       "    </tr>\n",
       "  </tbody>\n",
       "</table>\n",
       "</div>"
      ],
      "text/plain": [
       "   Cement (component 1)(kg in a m^3 mixture)  \\\n",
       "0                                      540.0   \n",
       "1                                      540.0   \n",
       "2                                      332.5   \n",
       "3                                      332.5   \n",
       "5                                      266.0   \n",
       "\n",
       "   Blast Furnace Slag (component 2)(kg in a m^3 mixture)  \\\n",
       "0                                                0.0       \n",
       "1                                                0.0       \n",
       "2                                              142.5       \n",
       "3                                              142.5       \n",
       "5                                              114.0       \n",
       "\n",
       "   Fly Ash (component 3)(kg in a m^3 mixture)  \\\n",
       "0                                         0.0   \n",
       "1                                         0.0   \n",
       "2                                         0.0   \n",
       "3                                         0.0   \n",
       "5                                         0.0   \n",
       "\n",
       "   Water  (component 4)(kg in a m^3 mixture)  \\\n",
       "0                                      162.0   \n",
       "1                                      162.0   \n",
       "2                                      228.0   \n",
       "3                                      228.0   \n",
       "5                                      228.0   \n",
       "\n",
       "   Superplasticizer (component 5)(kg in a m^3 mixture)  \\\n",
       "0                                                2.5     \n",
       "1                                                2.5     \n",
       "2                                                0.0     \n",
       "3                                                0.0     \n",
       "5                                                0.0     \n",
       "\n",
       "   Coarse Aggregate  (component 6)(kg in a m^3 mixture)  \\\n",
       "0                                             1040.0      \n",
       "1                                             1055.0      \n",
       "2                                              932.0      \n",
       "3                                              932.0      \n",
       "5                                              932.0      \n",
       "\n",
       "   Fine Aggregate (component 7)(kg in a m^3 mixture)  Age (day)  \\\n",
       "0                                              676.0       28.0   \n",
       "1                                              676.0       28.0   \n",
       "2                                              594.0      270.0   \n",
       "3                                              594.0      365.0   \n",
       "5                                              670.0       90.0   \n",
       "\n",
       "   Concrete compressive strength(MPa, megapascals)   \n",
       "0                                         79.989998  \n",
       "1                                         61.889999  \n",
       "2                                         40.270000  \n",
       "3                                         41.049999  \n",
       "5                                         47.029999  "
      ]
     },
     "execution_count": 12,
     "metadata": {},
     "output_type": "execute_result"
    }
   ],
   "source": [
    "train_data.head()"
   ]
  },
  {
   "cell_type": "code",
   "execution_count": 13,
   "metadata": {},
   "outputs": [
    {
     "data": {
      "text/plain": [
       "(514, 9)"
      ]
     },
     "execution_count": 13,
     "metadata": {},
     "output_type": "execute_result"
    }
   ],
   "source": [
    "test_data.shape"
   ]
  },
  {
   "cell_type": "code",
   "execution_count": 14,
   "metadata": {},
   "outputs": [
    {
     "data": {
      "text/html": [
       "<div>\n",
       "<style scoped>\n",
       "    .dataframe tbody tr th:only-of-type {\n",
       "        vertical-align: middle;\n",
       "    }\n",
       "\n",
       "    .dataframe tbody tr th {\n",
       "        vertical-align: top;\n",
       "    }\n",
       "\n",
       "    .dataframe thead th {\n",
       "        text-align: right;\n",
       "    }\n",
       "</style>\n",
       "<table border=\"1\" class=\"dataframe\">\n",
       "  <thead>\n",
       "    <tr style=\"text-align: right;\">\n",
       "      <th></th>\n",
       "      <th>Cement (component 1)(kg in a m^3 mixture)</th>\n",
       "      <th>Blast Furnace Slag (component 2)(kg in a m^3 mixture)</th>\n",
       "      <th>Fly Ash (component 3)(kg in a m^3 mixture)</th>\n",
       "      <th>Water  (component 4)(kg in a m^3 mixture)</th>\n",
       "      <th>Superplasticizer (component 5)(kg in a m^3 mixture)</th>\n",
       "      <th>Coarse Aggregate  (component 6)(kg in a m^3 mixture)</th>\n",
       "      <th>Fine Aggregate (component 7)(kg in a m^3 mixture)</th>\n",
       "      <th>Age (day)</th>\n",
       "      <th>Concrete compressive strength(MPa, megapascals)</th>\n",
       "    </tr>\n",
       "  </thead>\n",
       "  <tbody>\n",
       "    <tr>\n",
       "      <th>4</th>\n",
       "      <td>198.600006</td>\n",
       "      <td>132.399994</td>\n",
       "      <td>0.0</td>\n",
       "      <td>192.0</td>\n",
       "      <td>0.0</td>\n",
       "      <td>978.400024</td>\n",
       "      <td>825.500000</td>\n",
       "      <td>360.0</td>\n",
       "      <td>44.299999</td>\n",
       "    </tr>\n",
       "    <tr>\n",
       "      <th>6</th>\n",
       "      <td>380.000000</td>\n",
       "      <td>95.000000</td>\n",
       "      <td>0.0</td>\n",
       "      <td>228.0</td>\n",
       "      <td>0.0</td>\n",
       "      <td>932.000000</td>\n",
       "      <td>594.000000</td>\n",
       "      <td>365.0</td>\n",
       "      <td>43.700001</td>\n",
       "    </tr>\n",
       "    <tr>\n",
       "      <th>8</th>\n",
       "      <td>266.000000</td>\n",
       "      <td>114.000000</td>\n",
       "      <td>0.0</td>\n",
       "      <td>228.0</td>\n",
       "      <td>0.0</td>\n",
       "      <td>932.000000</td>\n",
       "      <td>670.000000</td>\n",
       "      <td>28.0</td>\n",
       "      <td>45.849998</td>\n",
       "    </tr>\n",
       "    <tr>\n",
       "      <th>14</th>\n",
       "      <td>304.000000</td>\n",
       "      <td>76.000000</td>\n",
       "      <td>0.0</td>\n",
       "      <td>228.0</td>\n",
       "      <td>0.0</td>\n",
       "      <td>932.000000</td>\n",
       "      <td>670.000000</td>\n",
       "      <td>28.0</td>\n",
       "      <td>47.810001</td>\n",
       "    </tr>\n",
       "    <tr>\n",
       "      <th>16</th>\n",
       "      <td>139.600006</td>\n",
       "      <td>209.399994</td>\n",
       "      <td>0.0</td>\n",
       "      <td>192.0</td>\n",
       "      <td>0.0</td>\n",
       "      <td>1047.000000</td>\n",
       "      <td>806.900024</td>\n",
       "      <td>90.0</td>\n",
       "      <td>39.360001</td>\n",
       "    </tr>\n",
       "  </tbody>\n",
       "</table>\n",
       "</div>"
      ],
      "text/plain": [
       "    Cement (component 1)(kg in a m^3 mixture)  \\\n",
       "4                                  198.600006   \n",
       "6                                  380.000000   \n",
       "8                                  266.000000   \n",
       "14                                 304.000000   \n",
       "16                                 139.600006   \n",
       "\n",
       "    Blast Furnace Slag (component 2)(kg in a m^3 mixture)  \\\n",
       "4                                          132.399994       \n",
       "6                                           95.000000       \n",
       "8                                          114.000000       \n",
       "14                                          76.000000       \n",
       "16                                         209.399994       \n",
       "\n",
       "    Fly Ash (component 3)(kg in a m^3 mixture)  \\\n",
       "4                                          0.0   \n",
       "6                                          0.0   \n",
       "8                                          0.0   \n",
       "14                                         0.0   \n",
       "16                                         0.0   \n",
       "\n",
       "    Water  (component 4)(kg in a m^3 mixture)  \\\n",
       "4                                       192.0   \n",
       "6                                       228.0   \n",
       "8                                       228.0   \n",
       "14                                      228.0   \n",
       "16                                      192.0   \n",
       "\n",
       "    Superplasticizer (component 5)(kg in a m^3 mixture)  \\\n",
       "4                                                 0.0     \n",
       "6                                                 0.0     \n",
       "8                                                 0.0     \n",
       "14                                                0.0     \n",
       "16                                                0.0     \n",
       "\n",
       "    Coarse Aggregate  (component 6)(kg in a m^3 mixture)  \\\n",
       "4                                          978.400024      \n",
       "6                                          932.000000      \n",
       "8                                          932.000000      \n",
       "14                                         932.000000      \n",
       "16                                        1047.000000      \n",
       "\n",
       "    Fine Aggregate (component 7)(kg in a m^3 mixture)  Age (day)  \\\n",
       "4                                          825.500000      360.0   \n",
       "6                                          594.000000      365.0   \n",
       "8                                          670.000000       28.0   \n",
       "14                                         670.000000       28.0   \n",
       "16                                         806.900024       90.0   \n",
       "\n",
       "    Concrete compressive strength(MPa, megapascals)   \n",
       "4                                          44.299999  \n",
       "6                                          43.700001  \n",
       "8                                          45.849998  \n",
       "14                                         47.810001  \n",
       "16                                         39.360001  "
      ]
     },
     "execution_count": 14,
     "metadata": {},
     "output_type": "execute_result"
    }
   ],
   "source": [
    "test_data.head()"
   ]
  },
  {
   "cell_type": "code",
   "execution_count": 15,
   "metadata": {},
   "outputs": [],
   "source": [
    "mean = train_data.mean(axis=0)\n",
    "train_data -= mean\n",
    "std = train_data.std(axis=0)\n",
    "train_data /= std\n",
    "test_data -= mean\n",
    "test_data /= std"
   ]
  },
  {
   "cell_type": "code",
   "execution_count": 16,
   "metadata": {},
   "outputs": [
    {
     "data": {
      "text/plain": [
       "2"
      ]
     },
     "execution_count": 16,
     "metadata": {},
     "output_type": "execute_result"
    }
   ],
   "source": [
    "train_data.ndim"
   ]
  },
  {
   "cell_type": "code",
   "execution_count": 17,
   "metadata": {},
   "outputs": [
    {
     "data": {
      "text/plain": [
       "(516, 9)"
      ]
     },
     "execution_count": 17,
     "metadata": {},
     "output_type": "execute_result"
    }
   ],
   "source": [
    "train_data.shape"
   ]
  },
  {
   "cell_type": "code",
   "execution_count": 18,
   "metadata": {},
   "outputs": [
    {
     "data": {
      "text/plain": [
       "2"
      ]
     },
     "execution_count": 18,
     "metadata": {},
     "output_type": "execute_result"
    }
   ],
   "source": [
    "test_data.ndim"
   ]
  },
  {
   "cell_type": "code",
   "execution_count": 19,
   "metadata": {},
   "outputs": [
    {
     "data": {
      "text/plain": [
       "(514, 9)"
      ]
     },
     "execution_count": 19,
     "metadata": {},
     "output_type": "execute_result"
    }
   ],
   "source": [
    "test_data.shape"
   ]
  },
  {
   "cell_type": "code",
   "execution_count": 20,
   "metadata": {},
   "outputs": [],
   "source": [
    "train_label = train_data.iloc[:,8]\n",
    "test_label = test_data.iloc[:,8]"
   ]
  },
  {
   "cell_type": "code",
   "execution_count": 21,
   "metadata": {},
   "outputs": [
    {
     "data": {
      "text/plain": [
       "(516,)"
      ]
     },
     "execution_count": 21,
     "metadata": {},
     "output_type": "execute_result"
    }
   ],
   "source": [
    "train_label.shape"
   ]
  },
  {
   "cell_type": "code",
   "execution_count": 22,
   "metadata": {},
   "outputs": [
    {
     "data": {
      "text/plain": [
       "(514,)"
      ]
     },
     "execution_count": 22,
     "metadata": {},
     "output_type": "execute_result"
    }
   ],
   "source": [
    "test_label.shape"
   ]
  },
  {
   "cell_type": "code",
   "execution_count": 23,
   "metadata": {},
   "outputs": [],
   "source": [
    "train_data=train_data.drop(train_label.name, axis=1)\n"
   ]
  },
  {
   "cell_type": "code",
   "execution_count": 24,
   "metadata": {},
   "outputs": [],
   "source": [
    "test_data=test_data.drop(train_label.name, axis=1)"
   ]
  },
  {
   "cell_type": "code",
   "execution_count": 25,
   "metadata": {},
   "outputs": [
    {
     "data": {
      "text/plain": [
       "Cement (component 1)(kg in a m^3 mixture)                float32\n",
       "Blast Furnace Slag (component 2)(kg in a m^3 mixture)    float32\n",
       "Fly Ash (component 3)(kg in a m^3 mixture)               float32\n",
       "Water  (component 4)(kg in a m^3 mixture)                float32\n",
       "Superplasticizer (component 5)(kg in a m^3 mixture)      float32\n",
       "Coarse Aggregate  (component 6)(kg in a m^3 mixture)     float32\n",
       "Fine Aggregate (component 7)(kg in a m^3 mixture)        float32\n",
       "Age (day)                                                float32\n",
       "dtype: object"
      ]
     },
     "execution_count": 25,
     "metadata": {},
     "output_type": "execute_result"
    }
   ],
   "source": [
    "train_data.dtypes"
   ]
  },
  {
   "cell_type": "code",
   "execution_count": 26,
   "metadata": {},
   "outputs": [],
   "source": [
    "test_data = np.array(test_data)"
   ]
  },
  {
   "cell_type": "code",
   "execution_count": 27,
   "metadata": {},
   "outputs": [],
   "source": [
    "train_data = np.array(train_data)"
   ]
  },
  {
   "cell_type": "code",
   "execution_count": 28,
   "metadata": {},
   "outputs": [],
   "source": [
    "test_labels = np.array(test_label.astype('float32'))\n",
    "train_labels = np.array(train_label.astype('float32'))"
   ]
  },
  {
   "cell_type": "code",
   "execution_count": 29,
   "metadata": {},
   "outputs": [],
   "source": [
    "from tensorflow.keras import models\n",
    "from tensorflow.keras import layers\n",
    "\n",
    "model = models.Sequential()\n",
    "model.add(layers.Dense(10, activation='relu',input_shape=(train_data.shape[1],)))\n",
    "model.add(layers.Dense(8, activation='relu'))\n",
    "model.add(layers.Dense(6, activation='relu'))\n",
    "model.add(layers.Dense(1))"
   ]
  },
  {
   "cell_type": "code",
   "execution_count": 30,
   "metadata": {},
   "outputs": [],
   "source": [
    "model.compile(optimizer='rmsprop',\n",
    "                loss='mse',\n",
    "                metrics=['mae'])"
   ]
  },
  {
   "cell_type": "code",
   "execution_count": 31,
   "metadata": {},
   "outputs": [
    {
     "name": "stdout",
     "output_type": "stream",
     "text": [
      "Epoch 1/100\n",
      "516/516 [==============================] - 0s 588us/step - loss: 0.8523 - mae: 0.7419\n",
      "Epoch 2/100\n",
      "516/516 [==============================] - 0s 609us/step - loss: 0.6197 - mae: 0.6339\n",
      "Epoch 3/100\n",
      "516/516 [==============================] - 0s 598us/step - loss: 0.4909 - mae: 0.5571\n",
      "Epoch 4/100\n",
      "516/516 [==============================] - 0s 606us/step - loss: 0.4062 - mae: 0.5058\n",
      "Epoch 5/100\n",
      "516/516 [==============================] - 0s 603us/step - loss: 0.3479 - mae: 0.4663\n",
      "Epoch 6/100\n",
      "516/516 [==============================] - 0s 611us/step - loss: 0.3046 - mae: 0.4325\n",
      "Epoch 7/100\n",
      "516/516 [==============================] - 0s 607us/step - loss: 0.2730 - mae: 0.4048\n",
      "Epoch 8/100\n",
      "516/516 [==============================] - 0s 606us/step - loss: 0.2524 - mae: 0.3889\n",
      "Epoch 9/100\n",
      "516/516 [==============================] - 0s 610us/step - loss: 0.2324 - mae: 0.3759\n",
      "Epoch 10/100\n",
      "516/516 [==============================] - 0s 610us/step - loss: 0.2189 - mae: 0.3631\n",
      "Epoch 11/100\n",
      "516/516 [==============================] - 0s 604us/step - loss: 0.2080 - mae: 0.3533\n",
      "Epoch 12/100\n",
      "516/516 [==============================] - 0s 602us/step - loss: 0.1945 - mae: 0.3418\n",
      "Epoch 13/100\n",
      "516/516 [==============================] - 0s 624us/step - loss: 0.1904 - mae: 0.3379\n",
      "Epoch 14/100\n",
      "516/516 [==============================] - 0s 593us/step - loss: 0.1830 - mae: 0.3235\n",
      "Epoch 15/100\n",
      "516/516 [==============================] - 0s 611us/step - loss: 0.1764 - mae: 0.3193\n",
      "Epoch 16/100\n",
      "516/516 [==============================] - 0s 632us/step - loss: 0.1695 - mae: 0.3092\n",
      "Epoch 17/100\n",
      "516/516 [==============================] - 0s 608us/step - loss: 0.1667 - mae: 0.3094\n",
      "Epoch 18/100\n",
      "516/516 [==============================] - 0s 605us/step - loss: 0.1600 - mae: 0.3049\n",
      "Epoch 19/100\n",
      "516/516 [==============================] - 0s 622us/step - loss: 0.1536 - mae: 0.2950\n",
      "Epoch 20/100\n",
      "516/516 [==============================] - 0s 615us/step - loss: 0.1534 - mae: 0.2924\n",
      "Epoch 21/100\n",
      "516/516 [==============================] - 0s 614us/step - loss: 0.1495 - mae: 0.2903\n",
      "Epoch 22/100\n",
      "516/516 [==============================] - 0s 621us/step - loss: 0.1420 - mae: 0.2847\n",
      "Epoch 23/100\n",
      "516/516 [==============================] - 0s 603us/step - loss: 0.1479 - mae: 0.2898\n",
      "Epoch 24/100\n",
      "516/516 [==============================] - 0s 604us/step - loss: 0.1474 - mae: 0.2852\n",
      "Epoch 25/100\n",
      "516/516 [==============================] - 0s 611us/step - loss: 0.1450 - mae: 0.2835\n",
      "Epoch 26/100\n",
      "516/516 [==============================] - 0s 611us/step - loss: 0.1428 - mae: 0.2862\n",
      "Epoch 27/100\n",
      "516/516 [==============================] - 0s 610us/step - loss: 0.1426 - mae: 0.2844\n",
      "Epoch 28/100\n",
      "516/516 [==============================] - 0s 629us/step - loss: 0.1412 - mae: 0.2826\n",
      "Epoch 29/100\n",
      "516/516 [==============================] - 0s 628us/step - loss: 0.1393 - mae: 0.2807\n",
      "Epoch 30/100\n",
      "516/516 [==============================] - 0s 614us/step - loss: 0.1370 - mae: 0.2775\n",
      "Epoch 31/100\n",
      "516/516 [==============================] - 0s 601us/step - loss: 0.1373 - mae: 0.2774\n",
      "Epoch 32/100\n",
      "516/516 [==============================] - 0s 681us/step - loss: 0.1309 - mae: 0.2729\n",
      "Epoch 33/100\n",
      "516/516 [==============================] - 0s 791us/step - loss: 0.1314 - mae: 0.2733\n",
      "Epoch 34/100\n",
      "516/516 [==============================] - 0s 807us/step - loss: 0.1311 - mae: 0.2712\n",
      "Epoch 35/100\n",
      "516/516 [==============================] - 0s 784us/step - loss: 0.1275 - mae: 0.2707\n",
      "Epoch 36/100\n",
      "516/516 [==============================] - 0s 748us/step - loss: 0.1273 - mae: 0.2742\n",
      "Epoch 37/100\n",
      "516/516 [==============================] - 0s 748us/step - loss: 0.1268 - mae: 0.2691\n",
      "Epoch 38/100\n",
      "516/516 [==============================] - 0s 750us/step - loss: 0.1261 - mae: 0.2665\n",
      "Epoch 39/100\n",
      "516/516 [==============================] - 0s 744us/step - loss: 0.1271 - mae: 0.2728\n",
      "Epoch 40/100\n",
      "516/516 [==============================] - 0s 749us/step - loss: 0.1275 - mae: 0.2690\n",
      "Epoch 41/100\n",
      "516/516 [==============================] - 0s 760us/step - loss: 0.1250 - mae: 0.2656\n",
      "Epoch 42/100\n",
      "516/516 [==============================] - 0s 643us/step - loss: 0.1246 - mae: 0.2652\n",
      "Epoch 43/100\n",
      "516/516 [==============================] - 0s 646us/step - loss: 0.1235 - mae: 0.2657\n",
      "Epoch 44/100\n",
      "516/516 [==============================] - 0s 723us/step - loss: 0.1231 - mae: 0.2660\n",
      "Epoch 45/100\n",
      "516/516 [==============================] - 0s 831us/step - loss: 0.1219 - mae: 0.2601\n",
      "Epoch 46/100\n",
      "516/516 [==============================] - 0s 651us/step - loss: 0.1210 - mae: 0.2631\n",
      "Epoch 47/100\n",
      "516/516 [==============================] - 0s 607us/step - loss: 0.1218 - mae: 0.2687\n",
      "Epoch 48/100\n",
      "516/516 [==============================] - 0s 609us/step - loss: 0.1217 - mae: 0.2655\n",
      "Epoch 49/100\n",
      "516/516 [==============================] - 0s 608us/step - loss: 0.1250 - mae: 0.2687\n",
      "Epoch 50/100\n",
      "516/516 [==============================] - 0s 609us/step - loss: 0.1212 - mae: 0.2659\n",
      "Epoch 51/100\n",
      "516/516 [==============================] - 0s 608us/step - loss: 0.1178 - mae: 0.2586\n",
      "Epoch 52/100\n",
      "516/516 [==============================] - 0s 612us/step - loss: 0.1176 - mae: 0.2619\n",
      "Epoch 53/100\n",
      "516/516 [==============================] - 0s 602us/step - loss: 0.1161 - mae: 0.2590\n",
      "Epoch 54/100\n",
      "516/516 [==============================] - 0s 608us/step - loss: 0.1185 - mae: 0.2653\n",
      "Epoch 55/100\n",
      "516/516 [==============================] - 0s 601us/step - loss: 0.1221 - mae: 0.2605\n",
      "Epoch 56/100\n",
      "516/516 [==============================] - 0s 598us/step - loss: 0.1207 - mae: 0.2626\n",
      "Epoch 57/100\n",
      "516/516 [==============================] - 0s 584us/step - loss: 0.1181 - mae: 0.2607\n",
      "Epoch 58/100\n",
      "516/516 [==============================] - 0s 594us/step - loss: 0.1143 - mae: 0.2534\n",
      "Epoch 59/100\n",
      "516/516 [==============================] - 0s 581us/step - loss: 0.1178 - mae: 0.2565\n",
      "Epoch 60/100\n",
      "516/516 [==============================] - 0s 591us/step - loss: 0.1161 - mae: 0.2511\n",
      "Epoch 61/100\n",
      "516/516 [==============================] - 0s 588us/step - loss: 0.1191 - mae: 0.2590\n",
      "Epoch 62/100\n",
      "516/516 [==============================] - 0s 564us/step - loss: 0.1153 - mae: 0.2562\n",
      "Epoch 63/100\n",
      "516/516 [==============================] - 0s 584us/step - loss: 0.1142 - mae: 0.2503\n",
      "Epoch 64/100\n",
      "516/516 [==============================] - 0s 575us/step - loss: 0.1122 - mae: 0.2487\n",
      "Epoch 65/100\n",
      "516/516 [==============================] - 0s 584us/step - loss: 0.1095 - mae: 0.2492\n",
      "Epoch 66/100\n",
      "516/516 [==============================] - 0s 580us/step - loss: 0.1149 - mae: 0.2520\n",
      "Epoch 67/100\n",
      "516/516 [==============================] - 0s 592us/step - loss: 0.1131 - mae: 0.2524\n",
      "Epoch 68/100\n",
      "516/516 [==============================] - 0s 580us/step - loss: 0.1104 - mae: 0.2458\n",
      "Epoch 69/100\n",
      "516/516 [==============================] - 0s 573us/step - loss: 0.1088 - mae: 0.2440\n",
      "Epoch 70/100\n",
      "516/516 [==============================] - 0s 599us/step - loss: 0.1065 - mae: 0.2454\n",
      "Epoch 71/100\n",
      "516/516 [==============================] - 0s 621us/step - loss: 0.1032 - mae: 0.2441\n",
      "Epoch 72/100\n",
      "516/516 [==============================] - 0s 602us/step - loss: 0.1062 - mae: 0.2456\n",
      "Epoch 73/100\n",
      "516/516 [==============================] - 0s 588us/step - loss: 0.1057 - mae: 0.2430\n",
      "Epoch 74/100\n",
      "516/516 [==============================] - 0s 591us/step - loss: 0.1099 - mae: 0.2442\n",
      "Epoch 75/100\n",
      "516/516 [==============================] - 0s 643us/step - loss: 0.1091 - mae: 0.2490\n",
      "Epoch 76/100\n",
      "516/516 [==============================] - 0s 595us/step - loss: 0.1067 - mae: 0.2432\n",
      "Epoch 77/100\n",
      "516/516 [==============================] - 0s 659us/step - loss: 0.1029 - mae: 0.2412\n",
      "Epoch 78/100\n",
      "516/516 [==============================] - 0s 571us/step - loss: 0.1060 - mae: 0.2404\n",
      "Epoch 79/100\n",
      "516/516 [==============================] - 0s 574us/step - loss: 0.1075 - mae: 0.2414\n",
      "Epoch 80/100\n",
      "516/516 [==============================] - 0s 579us/step - loss: 0.1044 - mae: 0.2391\n",
      "Epoch 81/100\n",
      "516/516 [==============================] - 0s 578us/step - loss: 0.1057 - mae: 0.2401\n",
      "Epoch 82/100\n",
      "516/516 [==============================] - 0s 591us/step - loss: 0.1017 - mae: 0.2359\n",
      "Epoch 83/100\n",
      "516/516 [==============================] - 0s 586us/step - loss: 0.1048 - mae: 0.2386\n",
      "Epoch 84/100\n",
      "516/516 [==============================] - 0s 574us/step - loss: 0.1026 - mae: 0.2380\n",
      "Epoch 85/100\n",
      "516/516 [==============================] - 0s 576us/step - loss: 0.1004 - mae: 0.2356\n",
      "Epoch 86/100\n",
      "516/516 [==============================] - 0s 590us/step - loss: 0.1008 - mae: 0.2393\n",
      "Epoch 87/100\n",
      "516/516 [==============================] - 0s 576us/step - loss: 0.1012 - mae: 0.2359\n",
      "Epoch 88/100\n",
      "516/516 [==============================] - 0s 595us/step - loss: 0.1027 - mae: 0.2368\n",
      "Epoch 89/100\n",
      "516/516 [==============================] - 0s 580us/step - loss: 0.0994 - mae: 0.2325\n",
      "Epoch 90/100\n",
      "516/516 [==============================] - 0s 567us/step - loss: 0.0977 - mae: 0.2321\n",
      "Epoch 91/100\n",
      "516/516 [==============================] - 0s 580us/step - loss: 0.1002 - mae: 0.2324\n",
      "Epoch 92/100\n",
      "516/516 [==============================] - 0s 583us/step - loss: 0.1009 - mae: 0.2338\n",
      "Epoch 93/100\n",
      "516/516 [==============================] - 0s 569us/step - loss: 0.0985 - mae: 0.2316\n",
      "Epoch 94/100\n",
      "516/516 [==============================] - 0s 597us/step - loss: 0.0973 - mae: 0.2264\n",
      "Epoch 95/100\n",
      "516/516 [==============================] - 0s 564us/step - loss: 0.0934 - mae: 0.2225\n",
      "Epoch 96/100\n",
      "516/516 [==============================] - 0s 654us/step - loss: 0.0957 - mae: 0.2276\n",
      "Epoch 97/100\n",
      "516/516 [==============================] - 0s 568us/step - loss: 0.0973 - mae: 0.2267\n",
      "Epoch 98/100\n",
      "516/516 [==============================] - 0s 598us/step - loss: 0.0947 - mae: 0.2241\n",
      "Epoch 99/100\n",
      "516/516 [==============================] - 0s 573us/step - loss: 0.0956 - mae: 0.2240\n",
      "Epoch 100/100\n",
      "516/516 [==============================] - 0s 569us/step - loss: 0.0954 - mae: 0.2263\n"
     ]
    },
    {
     "data": {
      "text/plain": [
       "<tensorflow.python.keras.callbacks.History at 0x271710df400>"
      ]
     },
     "execution_count": 31,
     "metadata": {},
     "output_type": "execute_result"
    }
   ],
   "source": [
    "model.fit(train_data, train_labels, epochs=100, batch_size=1)"
   ]
  },
  {
   "cell_type": "code",
   "execution_count": 32,
   "metadata": {},
   "outputs": [
    {
     "name": "stdout",
     "output_type": "stream",
     "text": [
      "17/17 [==============================] - 0s 2ms/step - loss: 0.1607 - mae: 0.3039\n"
     ]
    }
   ],
   "source": [
    "test_loss, test_acc = model.evaluate(test_data, test_labels)"
   ]
  },
  {
   "cell_type": "code",
   "execution_count": 33,
   "metadata": {},
   "outputs": [
    {
     "name": "stdout",
     "output_type": "stream",
     "text": [
      "test_acc: 0.30389535427093506\n"
     ]
    }
   ],
   "source": [
    "print('test_acc:', test_acc)"
   ]
  },
  {
   "cell_type": "code",
   "execution_count": 34,
   "metadata": {},
   "outputs": [],
   "source": [
    "#a=history.history\n",
    "#for i , v in enumerate(a):\n",
    "#    print(v)\n"
   ]
  },
  {
   "cell_type": "code",
   "execution_count": 35,
   "metadata": {},
   "outputs": [
    {
     "ename": "NameError",
     "evalue": "name 'num_epochs' is not defined",
     "output_type": "error",
     "traceback": [
      "\u001b[1;31m---------------------------------------------------------------------------\u001b[0m",
      "\u001b[1;31mNameError\u001b[0m                                 Traceback (most recent call last)",
      "\u001b[1;32m<ipython-input-35-5e95c09630fc>\u001b[0m in \u001b[0;36m<module>\u001b[1;34m\u001b[0m\n\u001b[0;32m      1\u001b[0m average_mae_history = [\n\u001b[1;32m----> 2\u001b[1;33m     np.mean([x[i] for x in all_mae_histories]) for i in range(num_epochs)]\n\u001b[0m",
      "\u001b[1;31mNameError\u001b[0m: name 'num_epochs' is not defined"
     ]
    }
   ],
   "source": [
    "average_mae_history = [\n",
    "    np.mean([x[i] for x in all_mae_histories]) for i in range(num_epochs)]"
   ]
  },
  {
   "cell_type": "code",
   "execution_count": 38,
   "metadata": {},
   "outputs": [
    {
     "data": {
      "image/png": "[encoded data removed]",
      "text/plain": [
       "<Figure size 432x288 with 1 Axes>"
      ]
     },
     "metadata": {
      "needs_background": "light"
     },
     "output_type": "display_data"
    }
   ],
   "source": [
    "plt.plot(range(1, len(average_mae_history) + 1), average_mae_history)\n",
    "plt.xlabel('Epochs')\n",
    "plt.ylabel('Validation MAE')\n",
    "\n",
    "plt.show()"
   ]
  },
  {
   "cell_type": "code",
   "execution_count": null,
   "metadata": {},
   "outputs": [],
   "source": []
  }
 ],
 "metadata": {
  "kernelspec": {
   "display_name": "Python 3",
   "language": "python",
   "name": "python3"
  },
  "language_info": {
   "codemirror_mode": {
    "name": "ipython",
    "version": 3
   },
   "file_extension": ".py",
   "mimetype": "text/x-python",
   "name": "python",
   "nbconvert_exporter": "python",
   "pygments_lexer": "ipython3",
   "version": "3.8.8"
  }
 },
 "nbformat": 4,
 "nbformat_minor": 2
}
